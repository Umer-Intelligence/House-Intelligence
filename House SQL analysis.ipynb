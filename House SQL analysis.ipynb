{
 "cells": [
  {
   "cell_type": "code",
   "execution_count": null,
   "id": "liquid-subscription",
   "metadata": {},
   "outputs": [],
   "source": [
    "#In this file we are going to analyze the houses dataset using SQL . The reason I am doing it through the notebook is \n",
    "# that it stores the queries as well as the result which is not available in any of the SQL applications"
   ]
  },
  {
   "cell_type": "markdown",
   "id": "structured-prairie",
   "metadata": {},
   "source": [
    "# Necessary procedures to load SQL file"
   ]
  },
  {
   "cell_type": "code",
   "execution_count": 1,
   "id": "tired-destiny",
   "metadata": {},
   "outputs": [],
   "source": [
    "%load_ext sql"
   ]
  },
  {
   "cell_type": "code",
   "execution_count": 2,
   "id": "difficult-personal",
   "metadata": {},
   "outputs": [],
   "source": [
    "%sql sqlite:///House.sqlite3"
   ]
  },
  {
   "cell_type": "markdown",
   "id": "analyzed-savannah",
   "metadata": {},
   "source": [
    "# Viewing dataset"
   ]
  },
  {
   "cell_type": "code",
   "execution_count": 3,
   "id": "tested-richardson",
   "metadata": {},
   "outputs": [
    {
     "name": "stdout",
     "output_type": "stream",
     "text": [
      " * sqlite:///House.sqlite3\n",
      "Done.\n"
     ]
    },
    {
     "data": {
      "text/html": [
       "<table>\n",
       "    <tr>\n",
       "        <th>price</th>\n",
       "        <th>bedrooms</th>\n",
       "        <th>bathrooms</th>\n",
       "        <th>sqft_living</th>\n",
       "        <th>sqft_lot</th>\n",
       "        <th>floors</th>\n",
       "        <th>waterfront</th>\n",
       "        <th>view</th>\n",
       "        <th>condition</th>\n",
       "        <th>sqft_above</th>\n",
       "        <th>sqft_basement</th>\n",
       "        <th>yr_built</th>\n",
       "        <th>yr_renovated</th>\n",
       "        <th>street</th>\n",
       "        <th>city</th>\n",
       "        <th>statezip</th>\n",
       "        <th>country</th>\n",
       "    </tr>\n",
       "    <tr>\n",
       "        <td>313000</td>\n",
       "        <td>3</td>\n",
       "        <td>1.5</td>\n",
       "        <td>1340</td>\n",
       "        <td>7912</td>\n",
       "        <td>1.5</td>\n",
       "        <td>0</td>\n",
       "        <td>0</td>\n",
       "        <td>3</td>\n",
       "        <td>1340</td>\n",
       "        <td>0</td>\n",
       "        <td>1955</td>\n",
       "        <td>2005</td>\n",
       "        <td>18810 Densmore Ave N</td>\n",
       "        <td>Shoreline</td>\n",
       "        <td>WA 98133</td>\n",
       "        <td>USA</td>\n",
       "    </tr>\n",
       "    <tr>\n",
       "        <td>2384000</td>\n",
       "        <td>5</td>\n",
       "        <td>2.5</td>\n",
       "        <td>3650</td>\n",
       "        <td>9050</td>\n",
       "        <td>2</td>\n",
       "        <td>0</td>\n",
       "        <td>4</td>\n",
       "        <td>5</td>\n",
       "        <td>3370</td>\n",
       "        <td>280</td>\n",
       "        <td>1921</td>\n",
       "        <td>0</td>\n",
       "        <td>709 W Blaine St</td>\n",
       "        <td>Seattle</td>\n",
       "        <td>WA 98119</td>\n",
       "        <td>USA</td>\n",
       "    </tr>\n",
       "    <tr>\n",
       "        <td>342000</td>\n",
       "        <td>3</td>\n",
       "        <td>2.0</td>\n",
       "        <td>1930</td>\n",
       "        <td>11947</td>\n",
       "        <td>1</td>\n",
       "        <td>0</td>\n",
       "        <td>0</td>\n",
       "        <td>4</td>\n",
       "        <td>1930</td>\n",
       "        <td>0</td>\n",
       "        <td>1966</td>\n",
       "        <td>0</td>\n",
       "        <td>26206-26214 143rd Ave SE</td>\n",
       "        <td>Kent</td>\n",
       "        <td>WA 98042</td>\n",
       "        <td>USA</td>\n",
       "    </tr>\n",
       "    <tr>\n",
       "        <td>420000</td>\n",
       "        <td>3</td>\n",
       "        <td>2.25</td>\n",
       "        <td>2000</td>\n",
       "        <td>8030</td>\n",
       "        <td>1</td>\n",
       "        <td>0</td>\n",
       "        <td>0</td>\n",
       "        <td>4</td>\n",
       "        <td>1000</td>\n",
       "        <td>1000</td>\n",
       "        <td>1963</td>\n",
       "        <td>0</td>\n",
       "        <td>857 170th Pl NE</td>\n",
       "        <td>Bellevue</td>\n",
       "        <td>WA 98008</td>\n",
       "        <td>USA</td>\n",
       "    </tr>\n",
       "    <tr>\n",
       "        <td>550000</td>\n",
       "        <td>4</td>\n",
       "        <td>2.5</td>\n",
       "        <td>1940</td>\n",
       "        <td>10500</td>\n",
       "        <td>1</td>\n",
       "        <td>0</td>\n",
       "        <td>0</td>\n",
       "        <td>4</td>\n",
       "        <td>1140</td>\n",
       "        <td>800</td>\n",
       "        <td>1976</td>\n",
       "        <td>1992</td>\n",
       "        <td>9105 170th Ave NE</td>\n",
       "        <td>Redmond</td>\n",
       "        <td>WA 98052</td>\n",
       "        <td>USA</td>\n",
       "    </tr>\n",
       "    <tr>\n",
       "        <td>490000</td>\n",
       "        <td>2</td>\n",
       "        <td>1.0</td>\n",
       "        <td>880</td>\n",
       "        <td>6380</td>\n",
       "        <td>1</td>\n",
       "        <td>0</td>\n",
       "        <td>0</td>\n",
       "        <td>3</td>\n",
       "        <td>880</td>\n",
       "        <td>0</td>\n",
       "        <td>1938</td>\n",
       "        <td>1994</td>\n",
       "        <td>522 NE 88th St</td>\n",
       "        <td>Seattle</td>\n",
       "        <td>WA 98115</td>\n",
       "        <td>USA</td>\n",
       "    </tr>\n",
       "    <tr>\n",
       "        <td>335000</td>\n",
       "        <td>2</td>\n",
       "        <td>2.0</td>\n",
       "        <td>1350</td>\n",
       "        <td>2560</td>\n",
       "        <td>1</td>\n",
       "        <td>0</td>\n",
       "        <td>0</td>\n",
       "        <td>3</td>\n",
       "        <td>1350</td>\n",
       "        <td>0</td>\n",
       "        <td>1976</td>\n",
       "        <td>0</td>\n",
       "        <td>2616 174th Ave NE</td>\n",
       "        <td>Redmond</td>\n",
       "        <td>WA 98052</td>\n",
       "        <td>USA</td>\n",
       "    </tr>\n",
       "    <tr>\n",
       "        <td>482000</td>\n",
       "        <td>4</td>\n",
       "        <td>2.5</td>\n",
       "        <td>2710</td>\n",
       "        <td>35868</td>\n",
       "        <td>2</td>\n",
       "        <td>0</td>\n",
       "        <td>0</td>\n",
       "        <td>3</td>\n",
       "        <td>2710</td>\n",
       "        <td>0</td>\n",
       "        <td>1989</td>\n",
       "        <td>0</td>\n",
       "        <td>23762 SE 253rd Pl</td>\n",
       "        <td>Maple Valley</td>\n",
       "        <td>WA 98038</td>\n",
       "        <td>USA</td>\n",
       "    </tr>\n",
       "    <tr>\n",
       "        <td>452500</td>\n",
       "        <td>3</td>\n",
       "        <td>2.5</td>\n",
       "        <td>2430</td>\n",
       "        <td>88426</td>\n",
       "        <td>1</td>\n",
       "        <td>0</td>\n",
       "        <td>0</td>\n",
       "        <td>4</td>\n",
       "        <td>1570</td>\n",
       "        <td>860</td>\n",
       "        <td>1985</td>\n",
       "        <td>0</td>\n",
       "        <td>46611-46625 SE 129th St</td>\n",
       "        <td>North Bend</td>\n",
       "        <td>WA 98045</td>\n",
       "        <td>USA</td>\n",
       "    </tr>\n",
       "    <tr>\n",
       "        <td>640000</td>\n",
       "        <td>4</td>\n",
       "        <td>2.0</td>\n",
       "        <td>1520</td>\n",
       "        <td>6200</td>\n",
       "        <td>1.5</td>\n",
       "        <td>0</td>\n",
       "        <td>0</td>\n",
       "        <td>3</td>\n",
       "        <td>1520</td>\n",
       "        <td>0</td>\n",
       "        <td>1945</td>\n",
       "        <td>2010</td>\n",
       "        <td>6811 55th Ave NE</td>\n",
       "        <td>Seattle</td>\n",
       "        <td>WA 98115</td>\n",
       "        <td>USA</td>\n",
       "    </tr>\n",
       "</table>"
      ],
      "text/plain": [
       "[(313000, 3, 1.5, 1340, 7912, 1.5, 0, 0, 3, 1340, 0, 1955, 2005, '18810 Densmore Ave N', 'Shoreline', 'WA 98133', 'USA'),\n",
       " (2384000, 5, 2.5, 3650, 9050, 2, 0, 4, 5, 3370, 280, 1921, 0, '709 W Blaine St', 'Seattle', 'WA 98119', 'USA'),\n",
       " (342000, 3, 2.0, 1930, 11947, 1, 0, 0, 4, 1930, 0, 1966, 0, '26206-26214 143rd Ave SE', 'Kent', 'WA 98042', 'USA'),\n",
       " (420000, 3, 2.25, 2000, 8030, 1, 0, 0, 4, 1000, 1000, 1963, 0, '857 170th Pl NE', 'Bellevue', 'WA 98008', 'USA'),\n",
       " (550000, 4, 2.5, 1940, 10500, 1, 0, 0, 4, 1140, 800, 1976, 1992, '9105 170th Ave NE', 'Redmond', 'WA 98052', 'USA'),\n",
       " (490000, 2, 1.0, 880, 6380, 1, 0, 0, 3, 880, 0, 1938, 1994, '522 NE 88th St', 'Seattle', 'WA 98115', 'USA'),\n",
       " (335000, 2, 2.0, 1350, 2560, 1, 0, 0, 3, 1350, 0, 1976, 0, '2616 174th Ave NE', 'Redmond', 'WA 98052', 'USA'),\n",
       " (482000, 4, 2.5, 2710, 35868, 2, 0, 0, 3, 2710, 0, 1989, 0, '23762 SE 253rd Pl', 'Maple Valley', 'WA 98038', 'USA'),\n",
       " (452500, 3, 2.5, 2430, 88426, 1, 0, 0, 4, 1570, 860, 1985, 0, '46611-46625 SE 129th St', 'North Bend', 'WA 98045', 'USA'),\n",
       " (640000, 4, 2.0, 1520, 6200, 1.5, 0, 0, 3, 1520, 0, 1945, 2010, '6811 55th Ave NE', 'Seattle', 'WA 98115', 'USA')]"
      ]
     },
     "execution_count": 3,
     "metadata": {},
     "output_type": "execute_result"
    }
   ],
   "source": [
    "%sql select * from houses limit 10"
   ]
  },
  {
   "cell_type": "markdown",
   "id": "subjective-instruction",
   "metadata": {},
   "source": [
    "# Analysing dataset"
   ]
  },
  {
   "cell_type": "code",
   "execution_count": 30,
   "id": "separated-harbor",
   "metadata": {},
   "outputs": [],
   "source": [
    "# To find the information about the house having highest price"
   ]
  },
  {
   "cell_type": "code",
   "execution_count": 7,
   "id": "defensive-comparison",
   "metadata": {},
   "outputs": [
    {
     "name": "stdout",
     "output_type": "stream",
     "text": [
      " * sqlite:///House.sqlite3\n",
      "Done.\n"
     ]
    },
    {
     "data": {
      "text/html": [
       "<table>\n",
       "    <tr>\n",
       "        <th>price</th>\n",
       "        <th>bedrooms</th>\n",
       "        <th>bathrooms</th>\n",
       "        <th>sqft_living</th>\n",
       "        <th>sqft_lot</th>\n",
       "        <th>floors</th>\n",
       "        <th>waterfront</th>\n",
       "        <th>view</th>\n",
       "        <th>condition</th>\n",
       "        <th>sqft_above</th>\n",
       "        <th>sqft_basement</th>\n",
       "        <th>yr_built</th>\n",
       "        <th>yr_renovated</th>\n",
       "        <th>street</th>\n",
       "        <th>city</th>\n",
       "        <th>statezip</th>\n",
       "        <th>country</th>\n",
       "    </tr>\n",
       "    <tr>\n",
       "        <td>26590000</td>\n",
       "        <td>3</td>\n",
       "        <td>2.0</td>\n",
       "        <td>1180</td>\n",
       "        <td>7793</td>\n",
       "        <td>1</td>\n",
       "        <td>0</td>\n",
       "        <td>0</td>\n",
       "        <td>4</td>\n",
       "        <td>1180</td>\n",
       "        <td>0</td>\n",
       "        <td>1992</td>\n",
       "        <td>0</td>\n",
       "        <td>12005 SE 219th Ct</td>\n",
       "        <td>Kent</td>\n",
       "        <td>WA 98031</td>\n",
       "        <td>USA</td>\n",
       "    </tr>\n",
       "</table>"
      ],
      "text/plain": [
       "[(26590000, 3, 2.0, 1180, 7793, 1, 0, 0, 4, 1180, 0, 1992, 0, '12005 SE 219th Ct', 'Kent', 'WA 98031', 'USA')]"
      ]
     },
     "execution_count": 7,
     "metadata": {},
     "output_type": "execute_result"
    }
   ],
   "source": [
    "%sql select * from houses where price in(select max(price) from houses)"
   ]
  },
  {
   "cell_type": "code",
   "execution_count": 31,
   "id": "unusual-apparel",
   "metadata": {},
   "outputs": [],
   "source": [
    "#To find the average price per city"
   ]
  },
  {
   "cell_type": "code",
   "execution_count": 4,
   "id": "inclusive-joining",
   "metadata": {
    "scrolled": true
   },
   "outputs": [
    {
     "name": "stdout",
     "output_type": "stream",
     "text": [
      " * sqlite:///House.sqlite3\n",
      "Done.\n"
     ]
    },
    {
     "data": {
      "text/html": [
       "<table>\n",
       "    <tr>\n",
       "        <th>city</th>\n",
       "        <th>average_price</th>\n",
       "    </tr>\n",
       "    <tr>\n",
       "        <td>Algona</td>\n",
       "        <td>207288.0</td>\n",
       "    </tr>\n",
       "    <tr>\n",
       "        <td>Auburn</td>\n",
       "        <td>299340.0</td>\n",
       "    </tr>\n",
       "    <tr>\n",
       "        <td>Beaux Arts Village</td>\n",
       "        <td>745000.0</td>\n",
       "    </tr>\n",
       "    <tr>\n",
       "        <td>Bellevue</td>\n",
       "        <td>847181.0</td>\n",
       "    </tr>\n",
       "    <tr>\n",
       "        <td>Black Diamond</td>\n",
       "        <td>339606.0</td>\n",
       "    </tr>\n",
       "    <tr>\n",
       "        <td>Bothell</td>\n",
       "        <td>481442.0</td>\n",
       "    </tr>\n",
       "    <tr>\n",
       "        <td>Burien</td>\n",
       "        <td>348947.0</td>\n",
       "    </tr>\n",
       "    <tr>\n",
       "        <td>Carnation</td>\n",
       "        <td>508752.0</td>\n",
       "    </tr>\n",
       "    <tr>\n",
       "        <td>Clyde Hill</td>\n",
       "        <td>1321945.0</td>\n",
       "    </tr>\n",
       "    <tr>\n",
       "        <td>Covington</td>\n",
       "        <td>296230.0</td>\n",
       "    </tr>\n",
       "</table>"
      ],
      "text/plain": [
       "[('Algona', 207288.0),\n",
       " ('Auburn', 299340.0),\n",
       " ('Beaux Arts Village', 745000.0),\n",
       " ('Bellevue', 847181.0),\n",
       " ('Black Diamond', 339606.0),\n",
       " ('Bothell', 481442.0),\n",
       " ('Burien', 348947.0),\n",
       " ('Carnation', 508752.0),\n",
       " ('Clyde Hill', 1321945.0),\n",
       " ('Covington', 296230.0)]"
      ]
     },
     "execution_count": 4,
     "metadata": {},
     "output_type": "execute_result"
    }
   ],
   "source": [
    "%sql select city,round(avg(price),0) as average_price from houses group by city limit 10"
   ]
  },
  {
   "cell_type": "code",
   "execution_count": null,
   "id": "faced-stretch",
   "metadata": {},
   "outputs": [],
   "source": [
    "#To find the average price per year"
   ]
  },
  {
   "cell_type": "code",
   "execution_count": 5,
   "id": "wireless-blond",
   "metadata": {
    "scrolled": true
   },
   "outputs": [
    {
     "name": "stdout",
     "output_type": "stream",
     "text": [
      " * sqlite:///House.sqlite3\n",
      "Done.\n"
     ]
    },
    {
     "data": {
      "text/html": [
       "<table>\n",
       "    <tr>\n",
       "        <th>Built_in_year</th>\n",
       "        <th>average_price</th>\n",
       "    </tr>\n",
       "    <tr>\n",
       "        <td>1900</td>\n",
       "        <td>701045.0</td>\n",
       "    </tr>\n",
       "    <tr>\n",
       "        <td>1901</td>\n",
       "        <td>506127.0</td>\n",
       "    </tr>\n",
       "    <tr>\n",
       "        <td>1902</td>\n",
       "        <td>854725.0</td>\n",
       "    </tr>\n",
       "    <tr>\n",
       "        <td>1903</td>\n",
       "        <td>513010.0</td>\n",
       "    </tr>\n",
       "    <tr>\n",
       "        <td>1904</td>\n",
       "        <td>501933.0</td>\n",
       "    </tr>\n",
       "    <tr>\n",
       "        <td>1905</td>\n",
       "        <td>782053.0</td>\n",
       "    </tr>\n",
       "    <tr>\n",
       "        <td>1906</td>\n",
       "        <td>596786.0</td>\n",
       "    </tr>\n",
       "    <tr>\n",
       "        <td>1907</td>\n",
       "        <td>583383.0</td>\n",
       "    </tr>\n",
       "    <tr>\n",
       "        <td>1908</td>\n",
       "        <td>516868.0</td>\n",
       "    </tr>\n",
       "    <tr>\n",
       "        <td>1909</td>\n",
       "        <td>821755.0</td>\n",
       "    </tr>\n",
       "</table>"
      ],
      "text/plain": [
       "[(1900, 701045.0),\n",
       " (1901, 506127.0),\n",
       " (1902, 854725.0),\n",
       " (1903, 513010.0),\n",
       " (1904, 501933.0),\n",
       " (1905, 782053.0),\n",
       " (1906, 596786.0),\n",
       " (1907, 583383.0),\n",
       " (1908, 516868.0),\n",
       " (1909, 821755.0)]"
      ]
     },
     "execution_count": 5,
     "metadata": {},
     "output_type": "execute_result"
    }
   ],
   "source": [
    "%sql select yr_built as Built_in_year,round(avg(price),0) as average_price from houses group by yr_built limit 10"
   ]
  },
  {
   "cell_type": "code",
   "execution_count": 29,
   "id": "tight-tradition",
   "metadata": {},
   "outputs": [],
   "source": [
    "# To find the number of houses having waterfronts"
   ]
  },
  {
   "cell_type": "code",
   "execution_count": 32,
   "id": "governing-emperor",
   "metadata": {},
   "outputs": [
    {
     "name": "stdout",
     "output_type": "stream",
     "text": [
      " * sqlite:///House.sqlite3\n",
      "Done.\n"
     ]
    },
    {
     "data": {
      "text/html": [
       "<table>\n",
       "    <tr>\n",
       "        <th>Having_watefronts</th>\n",
       "    </tr>\n",
       "    <tr>\n",
       "        <td>33</td>\n",
       "    </tr>\n",
       "</table>"
      ],
      "text/plain": [
       "[(33,)]"
      ]
     },
     "execution_count": 32,
     "metadata": {},
     "output_type": "execute_result"
    }
   ],
   "source": [
    "%sql select count(waterfront) as Having_watefronts from houses where waterfront=1"
   ]
  },
  {
   "cell_type": "code",
   "execution_count": null,
   "id": "civilian-context",
   "metadata": {},
   "outputs": [],
   "source": [
    "#To find the maximum number of bedrooms "
   ]
  },
  {
   "cell_type": "code",
   "execution_count": 33,
   "id": "wicked-steps",
   "metadata": {},
   "outputs": [
    {
     "name": "stdout",
     "output_type": "stream",
     "text": [
      " * sqlite:///House.sqlite3\n",
      "Done.\n"
     ]
    },
    {
     "data": {
      "text/html": [
       "<table>\n",
       "    <tr>\n",
       "        <th>max(bedrooms)</th>\n",
       "    </tr>\n",
       "    <tr>\n",
       "        <td>9</td>\n",
       "    </tr>\n",
       "</table>"
      ],
      "text/plain": [
       "[(9,)]"
      ]
     },
     "execution_count": 33,
     "metadata": {},
     "output_type": "execute_result"
    }
   ],
   "source": [
    "%sql select max(bedrooms) from houses"
   ]
  },
  {
   "cell_type": "code",
   "execution_count": null,
   "id": "regional-ready",
   "metadata": {},
   "outputs": [],
   "source": [
    "#To find the address of the most expensive house"
   ]
  },
  {
   "cell_type": "code",
   "execution_count": 37,
   "id": "union-sender",
   "metadata": {},
   "outputs": [
    {
     "name": "stdout",
     "output_type": "stream",
     "text": [
      " * sqlite:///House.sqlite3\n",
      "Done.\n"
     ]
    },
    {
     "data": {
      "text/html": [
       "<table>\n",
       "    <tr>\n",
       "        <th>street</th>\n",
       "        <th>city</th>\n",
       "        <th>statezip</th>\n",
       "        <th>price</th>\n",
       "    </tr>\n",
       "    <tr>\n",
       "        <td>12005 SE 219th Ct</td>\n",
       "        <td>Kent</td>\n",
       "        <td>WA 98031</td>\n",
       "        <td>26590000</td>\n",
       "    </tr>\n",
       "</table>"
      ],
      "text/plain": [
       "[('12005 SE 219th Ct', 'Kent', 'WA 98031', 26590000)]"
      ]
     },
     "execution_count": 37,
     "metadata": {},
     "output_type": "execute_result"
    }
   ],
   "source": [
    "%sql select street,city,statezip,price from houses where price in(select max(price) from houses)"
   ]
  },
  {
   "cell_type": "code",
   "execution_count": null,
   "id": "ahead-opinion",
   "metadata": {},
   "outputs": [],
   "source": [
    "#To find the information about the houses in good condition"
   ]
  },
  {
   "cell_type": "code",
   "execution_count": 6,
   "id": "governmental-exploration",
   "metadata": {},
   "outputs": [
    {
     "name": "stdout",
     "output_type": "stream",
     "text": [
      " * sqlite:///House.sqlite3\n",
      "Done.\n"
     ]
    },
    {
     "data": {
      "text/html": [
       "<table>\n",
       "    <tr>\n",
       "        <th>condition</th>\n",
       "        <th>price</th>\n",
       "        <th>bedrooms</th>\n",
       "        <th>bathrooms</th>\n",
       "        <th>sqft_living</th>\n",
       "        <th>sqft_lot</th>\n",
       "        <th>floors</th>\n",
       "        <th>waterfront</th>\n",
       "        <th>view</th>\n",
       "        <th>condition_1</th>\n",
       "        <th>sqft_above</th>\n",
       "        <th>sqft_basement</th>\n",
       "        <th>yr_built</th>\n",
       "        <th>yr_renovated</th>\n",
       "        <th>street</th>\n",
       "        <th>city</th>\n",
       "        <th>statezip</th>\n",
       "        <th>country</th>\n",
       "    </tr>\n",
       "    <tr>\n",
       "        <td>5</td>\n",
       "        <td>2384000</td>\n",
       "        <td>5</td>\n",
       "        <td>2.5</td>\n",
       "        <td>3650</td>\n",
       "        <td>9050</td>\n",
       "        <td>2</td>\n",
       "        <td>0</td>\n",
       "        <td>4</td>\n",
       "        <td>5</td>\n",
       "        <td>3370</td>\n",
       "        <td>280</td>\n",
       "        <td>1921</td>\n",
       "        <td>0</td>\n",
       "        <td>709 W Blaine St</td>\n",
       "        <td>Seattle</td>\n",
       "        <td>WA 98119</td>\n",
       "        <td>USA</td>\n",
       "    </tr>\n",
       "    <tr>\n",
       "        <td>4</td>\n",
       "        <td>342000</td>\n",
       "        <td>3</td>\n",
       "        <td>2.0</td>\n",
       "        <td>1930</td>\n",
       "        <td>11947</td>\n",
       "        <td>1</td>\n",
       "        <td>0</td>\n",
       "        <td>0</td>\n",
       "        <td>4</td>\n",
       "        <td>1930</td>\n",
       "        <td>0</td>\n",
       "        <td>1966</td>\n",
       "        <td>0</td>\n",
       "        <td>26206-26214 143rd Ave SE</td>\n",
       "        <td>Kent</td>\n",
       "        <td>WA 98042</td>\n",
       "        <td>USA</td>\n",
       "    </tr>\n",
       "    <tr>\n",
       "        <td>4</td>\n",
       "        <td>420000</td>\n",
       "        <td>3</td>\n",
       "        <td>2.25</td>\n",
       "        <td>2000</td>\n",
       "        <td>8030</td>\n",
       "        <td>1</td>\n",
       "        <td>0</td>\n",
       "        <td>0</td>\n",
       "        <td>4</td>\n",
       "        <td>1000</td>\n",
       "        <td>1000</td>\n",
       "        <td>1963</td>\n",
       "        <td>0</td>\n",
       "        <td>857 170th Pl NE</td>\n",
       "        <td>Bellevue</td>\n",
       "        <td>WA 98008</td>\n",
       "        <td>USA</td>\n",
       "    </tr>\n",
       "    <tr>\n",
       "        <td>4</td>\n",
       "        <td>550000</td>\n",
       "        <td>4</td>\n",
       "        <td>2.5</td>\n",
       "        <td>1940</td>\n",
       "        <td>10500</td>\n",
       "        <td>1</td>\n",
       "        <td>0</td>\n",
       "        <td>0</td>\n",
       "        <td>4</td>\n",
       "        <td>1140</td>\n",
       "        <td>800</td>\n",
       "        <td>1976</td>\n",
       "        <td>1992</td>\n",
       "        <td>9105 170th Ave NE</td>\n",
       "        <td>Redmond</td>\n",
       "        <td>WA 98052</td>\n",
       "        <td>USA</td>\n",
       "    </tr>\n",
       "    <tr>\n",
       "        <td>4</td>\n",
       "        <td>452500</td>\n",
       "        <td>3</td>\n",
       "        <td>2.5</td>\n",
       "        <td>2430</td>\n",
       "        <td>88426</td>\n",
       "        <td>1</td>\n",
       "        <td>0</td>\n",
       "        <td>0</td>\n",
       "        <td>4</td>\n",
       "        <td>1570</td>\n",
       "        <td>860</td>\n",
       "        <td>1985</td>\n",
       "        <td>0</td>\n",
       "        <td>46611-46625 SE 129th St</td>\n",
       "        <td>North Bend</td>\n",
       "        <td>WA 98045</td>\n",
       "        <td>USA</td>\n",
       "    </tr>\n",
       "    <tr>\n",
       "        <td>5</td>\n",
       "        <td>1400000</td>\n",
       "        <td>4</td>\n",
       "        <td>2.5</td>\n",
       "        <td>2920</td>\n",
       "        <td>4000</td>\n",
       "        <td>1.5</td>\n",
       "        <td>0</td>\n",
       "        <td>0</td>\n",
       "        <td>5</td>\n",
       "        <td>1910</td>\n",
       "        <td>1010</td>\n",
       "        <td>1909</td>\n",
       "        <td>1988</td>\n",
       "        <td>3838-4098 44th Ave NE</td>\n",
       "        <td>Seattle</td>\n",
       "        <td>WA 98105</td>\n",
       "        <td>USA</td>\n",
       "    </tr>\n",
       "    <tr>\n",
       "        <td>4</td>\n",
       "        <td>365000</td>\n",
       "        <td>3</td>\n",
       "        <td>1.0</td>\n",
       "        <td>1090</td>\n",
       "        <td>6435</td>\n",
       "        <td>1</td>\n",
       "        <td>0</td>\n",
       "        <td>0</td>\n",
       "        <td>4</td>\n",
       "        <td>1090</td>\n",
       "        <td>0</td>\n",
       "        <td>1955</td>\n",
       "        <td>2009</td>\n",
       "        <td>2504 SW Portland Ct</td>\n",
       "        <td>Seattle</td>\n",
       "        <td>WA 98106</td>\n",
       "        <td>USA</td>\n",
       "    </tr>\n",
       "    <tr>\n",
       "        <td>4</td>\n",
       "        <td>242500</td>\n",
       "        <td>3</td>\n",
       "        <td>1.5</td>\n",
       "        <td>1200</td>\n",
       "        <td>9720</td>\n",
       "        <td>1</td>\n",
       "        <td>0</td>\n",
       "        <td>0</td>\n",
       "        <td>4</td>\n",
       "        <td>1200</td>\n",
       "        <td>0</td>\n",
       "        <td>1965</td>\n",
       "        <td>0</td>\n",
       "        <td>14034 SE 201st St</td>\n",
       "        <td>Kent</td>\n",
       "        <td>WA 98042</td>\n",
       "        <td>USA</td>\n",
       "    </tr>\n",
       "    <tr>\n",
       "        <td>4</td>\n",
       "        <td>419000</td>\n",
       "        <td>3</td>\n",
       "        <td>1.5</td>\n",
       "        <td>1570</td>\n",
       "        <td>6700</td>\n",
       "        <td>1</td>\n",
       "        <td>0</td>\n",
       "        <td>0</td>\n",
       "        <td>4</td>\n",
       "        <td>1570</td>\n",
       "        <td>0</td>\n",
       "        <td>1956</td>\n",
       "        <td>0</td>\n",
       "        <td>15424 SE 9th St</td>\n",
       "        <td>Bellevue</td>\n",
       "        <td>WA 98007</td>\n",
       "        <td>USA</td>\n",
       "    </tr>\n",
       "    <tr>\n",
       "        <td>5</td>\n",
       "        <td>750000</td>\n",
       "        <td>3</td>\n",
       "        <td>1.75</td>\n",
       "        <td>2240</td>\n",
       "        <td>10578</td>\n",
       "        <td>2</td>\n",
       "        <td>0</td>\n",
       "        <td>0</td>\n",
       "        <td>5</td>\n",
       "        <td>1550</td>\n",
       "        <td>690</td>\n",
       "        <td>1923</td>\n",
       "        <td>0</td>\n",
       "        <td>3225 NE 92nd St</td>\n",
       "        <td>Seattle</td>\n",
       "        <td>WA 98115</td>\n",
       "        <td>USA</td>\n",
       "    </tr>\n",
       "</table>"
      ],
      "text/plain": [
       "[(5, 2384000, 5, 2.5, 3650, 9050, 2, 0, 4, 5, 3370, 280, 1921, 0, '709 W Blaine St', 'Seattle', 'WA 98119', 'USA'),\n",
       " (4, 342000, 3, 2.0, 1930, 11947, 1, 0, 0, 4, 1930, 0, 1966, 0, '26206-26214 143rd Ave SE', 'Kent', 'WA 98042', 'USA'),\n",
       " (4, 420000, 3, 2.25, 2000, 8030, 1, 0, 0, 4, 1000, 1000, 1963, 0, '857 170th Pl NE', 'Bellevue', 'WA 98008', 'USA'),\n",
       " (4, 550000, 4, 2.5, 1940, 10500, 1, 0, 0, 4, 1140, 800, 1976, 1992, '9105 170th Ave NE', 'Redmond', 'WA 98052', 'USA'),\n",
       " (4, 452500, 3, 2.5, 2430, 88426, 1, 0, 0, 4, 1570, 860, 1985, 0, '46611-46625 SE 129th St', 'North Bend', 'WA 98045', 'USA'),\n",
       " (5, 1400000, 4, 2.5, 2920, 4000, 1.5, 0, 0, 5, 1910, 1010, 1909, 1988, '3838-4098 44th Ave NE', 'Seattle', 'WA 98105', 'USA'),\n",
       " (4, 365000, 3, 1.0, 1090, 6435, 1, 0, 0, 4, 1090, 0, 1955, 2009, '2504 SW Portland Ct', 'Seattle', 'WA 98106', 'USA'),\n",
       " (4, 242500, 3, 1.5, 1200, 9720, 1, 0, 0, 4, 1200, 0, 1965, 0, '14034 SE 201st St', 'Kent', 'WA 98042', 'USA'),\n",
       " (4, 419000, 3, 1.5, 1570, 6700, 1, 0, 0, 4, 1570, 0, 1956, 0, '15424 SE 9th St', 'Bellevue', 'WA 98007', 'USA'),\n",
       " (5, 750000, 3, 1.75, 2240, 10578, 2, 0, 0, 5, 1550, 690, 1923, 0, '3225 NE 92nd St', 'Seattle', 'WA 98115', 'USA')]"
      ]
     },
     "execution_count": 6,
     "metadata": {},
     "output_type": "execute_result"
    }
   ],
   "source": [
    "%sql select condition,* from houses where condition in(4,5) limit 10"
   ]
  },
  {
   "cell_type": "code",
   "execution_count": null,
   "id": "proved-arthritis",
   "metadata": {},
   "outputs": [],
   "source": [
    "#To find the number of houses not having a basement"
   ]
  },
  {
   "cell_type": "code",
   "execution_count": 41,
   "id": "blessed-canon",
   "metadata": {},
   "outputs": [
    {
     "name": "stdout",
     "output_type": "stream",
     "text": [
      " * sqlite:///House.sqlite3\n",
      "Done.\n"
     ]
    },
    {
     "data": {
      "text/html": [
       "<table>\n",
       "    <tr>\n",
       "        <th>Not_having_basement</th>\n",
       "    </tr>\n",
       "    <tr>\n",
       "        <td>2745</td>\n",
       "    </tr>\n",
       "</table>"
      ],
      "text/plain": [
       "[(2745,)]"
      ]
     },
     "execution_count": 41,
     "metadata": {},
     "output_type": "execute_result"
    }
   ],
   "source": [
    "%sql SELECT count(sqft_basement) as Not_having_basement  from houses where sqft_basement=0"
   ]
  },
  {
   "cell_type": "code",
   "execution_count": null,
   "id": "premium-orlando",
   "metadata": {},
   "outputs": [],
   "source": [
    "#To find the maximum and minimum number of floors"
   ]
  },
  {
   "cell_type": "code",
   "execution_count": 44,
   "id": "recorded-accountability",
   "metadata": {},
   "outputs": [
    {
     "name": "stdout",
     "output_type": "stream",
     "text": [
      " * sqlite:///House.sqlite3\n",
      "Done.\n"
     ]
    },
    {
     "data": {
      "text/html": [
       "<table>\n",
       "    <tr>\n",
       "        <th>maximum_floors</th>\n",
       "        <th>minimum_floors</th>\n",
       "    </tr>\n",
       "    <tr>\n",
       "        <td>3.5</td>\n",
       "        <td>1</td>\n",
       "    </tr>\n",
       "</table>"
      ],
      "text/plain": [
       "[(3.5, 1)]"
      ]
     },
     "execution_count": 44,
     "metadata": {},
     "output_type": "execute_result"
    }
   ],
   "source": [
    "%sql select max(floors) as maximum_floors ,min(floors) as minimum_floors from houses"
   ]
  },
  {
   "cell_type": "code",
   "execution_count": null,
   "id": "ignored-surrey",
   "metadata": {},
   "outputs": [],
   "source": [
    "# To find the number of houses in each city"
   ]
  },
  {
   "cell_type": "code",
   "execution_count": 7,
   "id": "recognized-organic",
   "metadata": {
    "scrolled": true
   },
   "outputs": [
    {
     "name": "stdout",
     "output_type": "stream",
     "text": [
      " * sqlite:///House.sqlite3\n",
      "Done.\n"
     ]
    },
    {
     "data": {
      "text/html": [
       "<table>\n",
       "    <tr>\n",
       "        <th>city</th>\n",
       "        <th>number_of_houses</th>\n",
       "    </tr>\n",
       "    <tr>\n",
       "        <td>Algona</td>\n",
       "        <td>5</td>\n",
       "    </tr>\n",
       "    <tr>\n",
       "        <td>Auburn</td>\n",
       "        <td>176</td>\n",
       "    </tr>\n",
       "    <tr>\n",
       "        <td>Beaux Arts Village</td>\n",
       "        <td>1</td>\n",
       "    </tr>\n",
       "    <tr>\n",
       "        <td>Bellevue</td>\n",
       "        <td>286</td>\n",
       "    </tr>\n",
       "    <tr>\n",
       "        <td>Black Diamond</td>\n",
       "        <td>9</td>\n",
       "    </tr>\n",
       "    <tr>\n",
       "        <td>Bothell</td>\n",
       "        <td>33</td>\n",
       "    </tr>\n",
       "    <tr>\n",
       "        <td>Burien</td>\n",
       "        <td>74</td>\n",
       "    </tr>\n",
       "    <tr>\n",
       "        <td>Carnation</td>\n",
       "        <td>22</td>\n",
       "    </tr>\n",
       "    <tr>\n",
       "        <td>Clyde Hill</td>\n",
       "        <td>11</td>\n",
       "    </tr>\n",
       "    <tr>\n",
       "        <td>Covington</td>\n",
       "        <td>43</td>\n",
       "    </tr>\n",
       "</table>"
      ],
      "text/plain": [
       "[('Algona', 5),\n",
       " ('Auburn', 176),\n",
       " ('Beaux Arts Village', 1),\n",
       " ('Bellevue', 286),\n",
       " ('Black Diamond', 9),\n",
       " ('Bothell', 33),\n",
       " ('Burien', 74),\n",
       " ('Carnation', 22),\n",
       " ('Clyde Hill', 11),\n",
       " ('Covington', 43)]"
      ]
     },
     "execution_count": 7,
     "metadata": {},
     "output_type": "execute_result"
    }
   ],
   "source": [
    "%sql select city,count(city) as number_of_houses  from houses group by city limit 10"
   ]
  },
  {
   "cell_type": "code",
   "execution_count": null,
   "id": "congressional-singapore",
   "metadata": {},
   "outputs": [],
   "source": [
    "# To find the information about the renovated houses"
   ]
  },
  {
   "cell_type": "code",
   "execution_count": 8,
   "id": "annoying-cursor",
   "metadata": {},
   "outputs": [
    {
     "name": "stdout",
     "output_type": "stream",
     "text": [
      " * sqlite:///House.sqlite3\n",
      "Done.\n"
     ]
    },
    {
     "data": {
      "text/html": [
       "<table>\n",
       "    <tr>\n",
       "        <th>street</th>\n",
       "        <th>yr_renovated</th>\n",
       "    </tr>\n",
       "    <tr>\n",
       "        <td>18810 Densmore Ave N</td>\n",
       "        <td>2005</td>\n",
       "    </tr>\n",
       "    <tr>\n",
       "        <td>9105 170th Ave NE</td>\n",
       "        <td>1992</td>\n",
       "    </tr>\n",
       "    <tr>\n",
       "        <td>522 NE 88th St</td>\n",
       "        <td>1994</td>\n",
       "    </tr>\n",
       "    <tr>\n",
       "        <td>6811 55th Ave NE</td>\n",
       "        <td>2010</td>\n",
       "    </tr>\n",
       "    <tr>\n",
       "        <td>Burke-Gilman Trail</td>\n",
       "        <td>1994</td>\n",
       "    </tr>\n",
       "    <tr>\n",
       "        <td>3838-4098 44th Ave NE</td>\n",
       "        <td>1988</td>\n",
       "    </tr>\n",
       "    <tr>\n",
       "        <td>2504 SW Portland Ct</td>\n",
       "        <td>2009</td>\n",
       "    </tr>\n",
       "    <tr>\n",
       "        <td>3534 46th Ave NE</td>\n",
       "        <td>1969</td>\n",
       "    </tr>\n",
       "    <tr>\n",
       "        <td>1605 S 245th Pl</td>\n",
       "        <td>2000</td>\n",
       "    </tr>\n",
       "    <tr>\n",
       "        <td>12425 415th Ave SE</td>\n",
       "        <td>2009</td>\n",
       "    </tr>\n",
       "</table>"
      ],
      "text/plain": [
       "[('18810 Densmore Ave N', 2005),\n",
       " ('9105 170th Ave NE', 1992),\n",
       " ('522 NE 88th St', 1994),\n",
       " ('6811 55th Ave NE', 2010),\n",
       " ('Burke-Gilman Trail', 1994),\n",
       " ('3838-4098 44th Ave NE', 1988),\n",
       " ('2504 SW Portland Ct', 2009),\n",
       " ('3534 46th Ave NE', 1969),\n",
       " ('1605 S 245th Pl', 2000),\n",
       " ('12425 415th Ave SE', 2009)]"
      ]
     },
     "execution_count": 8,
     "metadata": {},
     "output_type": "execute_result"
    }
   ],
   "source": [
    "%sql select street,yr_renovated from houses where yr_renovated is not 0 limit 10"
   ]
  },
  {
   "cell_type": "code",
   "execution_count": null,
   "id": "suspended-college",
   "metadata": {},
   "outputs": [],
   "source": [
    "#To find the citites ending with 'e'"
   ]
  },
  {
   "cell_type": "code",
   "execution_count": 60,
   "id": "random-august",
   "metadata": {},
   "outputs": [
    {
     "name": "stdout",
     "output_type": "stream",
     "text": [
      " * sqlite:///House.sqlite3\n",
      "Done.\n"
     ]
    },
    {
     "data": {
      "text/html": [
       "<table>\n",
       "    <tr>\n",
       "        <th>city</th>\n",
       "    </tr>\n",
       "    <tr>\n",
       "        <td>Shoreline</td>\n",
       "    </tr>\n",
       "    <tr>\n",
       "        <td>Seattle</td>\n",
       "    </tr>\n",
       "    <tr>\n",
       "        <td>Bellevue</td>\n",
       "    </tr>\n",
       "    <tr>\n",
       "        <td>Woodinville</td>\n",
       "    </tr>\n",
       "    <tr>\n",
       "        <td>Snoqualmie</td>\n",
       "    </tr>\n",
       "    <tr>\n",
       "        <td>Kenmore</td>\n",
       "    </tr>\n",
       "    <tr>\n",
       "        <td>Newcastle</td>\n",
       "    </tr>\n",
       "    <tr>\n",
       "        <td>Ravensdale</td>\n",
       "    </tr>\n",
       "    <tr>\n",
       "        <td>Beaux Arts Village</td>\n",
       "    </tr>\n",
       "</table>"
      ],
      "text/plain": [
       "[('Shoreline',),\n",
       " ('Seattle',),\n",
       " ('Bellevue',),\n",
       " ('Woodinville',),\n",
       " ('Snoqualmie',),\n",
       " ('Kenmore',),\n",
       " ('Newcastle',),\n",
       " ('Ravensdale',),\n",
       " ('Beaux Arts Village',)]"
      ]
     },
     "execution_count": 60,
     "metadata": {},
     "output_type": "execute_result"
    }
   ],
   "source": [
    "%sql select distinct city from houses where city like('%e')"
   ]
  }
 ],
 "metadata": {
  "kernelspec": {
   "display_name": "Python 3",
   "language": "python",
   "name": "python3"
  },
  "language_info": {
   "codemirror_mode": {
    "name": "ipython",
    "version": 3
   },
   "file_extension": ".py",
   "mimetype": "text/x-python",
   "name": "python",
   "nbconvert_exporter": "python",
   "pygments_lexer": "ipython3",
   "version": "3.6.1"
  }
 },
 "nbformat": 4,
 "nbformat_minor": 5
}
